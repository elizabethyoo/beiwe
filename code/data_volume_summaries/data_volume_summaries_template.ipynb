{
 "cells": [
  {
   "cell_type": "code",
   "execution_count": null,
   "id": "dca7c2c5",
   "metadata": {},
   "outputs": [],
   "source": [
    "### This notebook is intended to let a new lab member quickly create the checkerboard plots that we use in the lab. \n",
    "\n",
    "## Once you enter the correct Beiwe ID, you should be able to create a somewhat decent looking pdf output by running the following in shell:\n",
    "\n",
    "# jupyter nbconvert --to pdf --TemplateExporter.exclude_input=True  \"data_volume_summaries_template.ipynb\"\n",
    "\n",
    "## make sure you replace \"data_volume_summaries_template.ipynb\" with the name of the noteobook if you changed the notebook's nanme. \n",
    "\n",
    "## (the notebook name is the title of the notebook, so the report looks nicer if you change the name to something better)"
   ]
  },
  {
   "cell_type": "code",
   "execution_count": null,
   "id": "da992417",
   "metadata": {},
   "outputs": [],
   "source": [
    "import sys\n",
    "#Use this cell if you've moved this notebook somewhere else\n",
    "#sys.path.insert(0, \"/path/to/repo/beiwe/code\")"
   ]
  },
  {
   "cell_type": "code",
   "execution_count": null,
   "id": "d720133d",
   "metadata": {},
   "outputs": [],
   "source": [
    "import data_summaries"
   ]
  },
  {
   "cell_type": "code",
   "execution_count": null,
   "id": "3416a2b8",
   "metadata": {},
   "outputs": [],
   "source": [
    "kr = data_summaries.read_keyring(\"/Volumes/SanDisk/onnela_lab/keyring_files/keyring_studies.py\")"
   ]
  },
  {
   "cell_type": "code",
   "execution_count": null,
   "id": "5d38313e",
   "metadata": {},
   "outputs": [],
   "source": [
    "data_summaries_file_path = \"data_volume.csv\""
   ]
  },
  {
   "cell_type": "code",
   "execution_count": null,
   "id": "45ecaaf1",
   "metadata": {},
   "outputs": [],
   "source": [
    "import os\n",
    "study_id =  \"58de9c9246b9fc61b2007034\"\n",
    "data_summaries.get_data_summaries(study_id,\n",
    "        output_file_path = data_summaries_file_path,\n",
    "        keyring = kr)"
   ]
  },
  {
   "cell_type": "markdown",
   "id": "1e1ba32a",
   "metadata": {},
   "source": [
    "# Data Volume Summaries for Study\n",
    "\n",
    "Here are the number of users with at least one day of data by data stream"
   ]
  },
  {
   "cell_type": "code",
   "execution_count": null,
   "id": "39aad277",
   "metadata": {},
   "outputs": [],
   "source": [
    "print(data_summaries.get_num_users(summaries_path = data_summaries_file_path).set_index(\"Data Type\", drop = True))"
   ]
  },
  {
   "cell_type": "markdown",
   "id": "72575028",
   "metadata": {},
   "source": [
    "## Summary Plots: X axis is time since study entry"
   ]
  },
  {
   "cell_type": "code",
   "execution_count": null,
   "id": "52e84f13",
   "metadata": {},
   "outputs": [],
   "source": [
    "data_plots_path = \"data_volume_plots\"\n",
    "data_summaries.data_volume_plots(\n",
    "        data_summaries_path = data_summaries_file_path, \n",
    "        output_dir = data_plots_path,\n",
    "        display_plots = True, #this needs to be true for the notebook to run\n",
    "        binary_heatmap = True, #if this is False, a continuous data volume measurement will be put on the heatmaps\n",
    "        plot_study_time = True, #whether to use study time instead of calendar time\n",
    "        overlay_surveys = True, #whether to overlay survey submissions on top of data\n",
    "        include_y_labels = False # if you have a ton of users, don't include y labels so you can fit it on one page. \n",
    ")"
   ]
  },
  {
   "cell_type": "markdown",
   "id": "592ef085",
   "metadata": {},
   "source": [
    "## Summary Plots: X axis is calendar time"
   ]
  },
  {
   "cell_type": "code",
   "execution_count": null,
   "id": "c70e7bd1",
   "metadata": {},
   "outputs": [],
   "source": [
    "data_plots_path = \"data_volume_plots\"\n",
    "data_summaries.data_volume_plots(\n",
    "        data_summaries_path = data_summaries_file_path, \n",
    "        output_dir = data_plots_path,\n",
    "        display_plots = True, \n",
    "        binary_heatmap = True, \n",
    "        plot_study_time = False,\n",
    "        overlay_surveys = True,\n",
    "        include_y_labels = False\n",
    ")"
   ]
  }
 ],
 "metadata": {
  "kernelspec": {
   "display_name": "Python 3",
   "language": "python",
   "name": "python3"
  },
  "language_info": {
   "codemirror_mode": {
    "name": "ipython",
    "version": 3
   },
   "file_extension": ".py",
   "mimetype": "text/x-python",
   "name": "python",
   "nbconvert_exporter": "python",
   "pygments_lexer": "ipython3",
   "version": "3.8.8"
  }
 },
 "nbformat": 4,
 "nbformat_minor": 5
}
