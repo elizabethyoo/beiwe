{
 "cells": [
  {
   "cell_type": "markdown",
   "metadata": {},
   "source": [
    "# Introduction"
   ]
  },
  {
   "cell_type": "markdown",
   "metadata": {},
   "source": [
    "This is a tutorial for using Forest to analyze Beiwe data. We will first download the data using mano. We will also be creating some time series plots using the generated statistic summaries. There are four parts to this tutorial.\n",
    "\n",
    "1. Check Python version and download Forest.\n",
    "2. Download data for your study from the server.\n",
    "3. Explore the file structure of your data\n",
    "4. Process data using forest.\n",
    "5. Creating time series plots. "
   ]
  },
  {
   "cell_type": "markdown",
   "metadata": {},
   "source": [
    "## Check Python Version and Download Forest"
   ]
  },
  {
   "cell_type": "markdown",
   "metadata": {},
   "source": [
    "Before we begin, we need to check the current distribution of Python. Note that forest is built using Python 3.11. "
   ]
  },
  {
   "cell_type": "code",
   "execution_count": 1,
   "metadata": {},
   "outputs": [],
   "source": [
    "from platform import python_version\n",
    "import sys"
   ]
  },
  {
   "cell_type": "markdown",
   "metadata": {},
   "source": [
    "- Print the python version and the path to the Python interpreter. "
   ]
  },
  {
   "cell_type": "code",
   "execution_count": 2,
   "metadata": {},
   "outputs": [
    {
     "name": "stdout",
     "output_type": "stream",
     "text": [
      "3.11.11\n",
      "/n/home01/egraff/.conda/envs/forest_env/bin/python\n"
     ]
    }
   ],
   "source": [
    "print(python_version()) ## Prints your version of python\n",
    "print(sys.executable) ## Prints your current python installation"
   ]
  },
  {
   "cell_type": "markdown",
   "metadata": {},
   "source": [
    "*The output should display two lines.* \n",
    "\n",
    "1. The Python version installed- make sure you are not using a version of Python that is earlier than 3.11\n",
    "2. The path to where Python is currently installed"
   ]
  },
  {
   "cell_type": "markdown",
   "metadata": {},
   "source": [
    "- You may need to install git, pip, mano and forest. To do so, either run the chunk below (the one with lines starting with \"!\") or enter the lines below (not starting with \"!\" in a command-line shell. If you already have mano and forest installed, you can skip to the next step. "
   ]
  },
  {
   "cell_type": "code",
   "execution_count": 3,
   "metadata": {},
   "outputs": [
    {
     "name": "stdout",
     "output_type": "stream",
     "text": [
      "Collecting mano\n",
      "  Downloading mano-0.5.2-py2.py3-none-any.whl.metadata (329 bytes)\n",
      "Collecting requests (from mano)\n",
      "  Downloading requests-2.32.3-py3-none-any.whl.metadata (4.6 kB)\n",
      "Collecting lxml (from mano)\n",
      "  Downloading lxml-5.3.1-cp311-cp311-manylinux_2_28_x86_64.whl.metadata (3.7 kB)\n",
      "Requirement already satisfied: python-dateutil in /n/home01/egraff/.conda/envs/forest_env/lib/python3.11/site-packages (from mano) (2.9.0.post0)\n",
      "Collecting cryptease (from mano)\n",
      "  Downloading cryptease-0.2.0-py2.py3-none-any.whl.metadata (333 bytes)\n",
      "Collecting cryptography (from cryptease->mano)\n",
      "  Downloading cryptography-44.0.2-cp39-abi3-manylinux_2_28_x86_64.whl.metadata (5.7 kB)\n",
      "Requirement already satisfied: six>=1.5 in /n/home01/egraff/.conda/envs/forest_env/lib/python3.11/site-packages (from python-dateutil->mano) (1.17.0)\n",
      "Collecting charset-normalizer<4,>=2 (from requests->mano)\n",
      "  Downloading charset_normalizer-3.4.1-cp311-cp311-manylinux_2_17_x86_64.manylinux2014_x86_64.whl.metadata (35 kB)\n",
      "Collecting idna<4,>=2.5 (from requests->mano)\n",
      "  Downloading idna-3.10-py3-none-any.whl.metadata (10 kB)\n",
      "Collecting urllib3<3,>=1.21.1 (from requests->mano)\n",
      "  Downloading urllib3-2.3.0-py3-none-any.whl.metadata (6.5 kB)\n",
      "Collecting certifi>=2017.4.17 (from requests->mano)\n",
      "  Downloading certifi-2025.1.31-py3-none-any.whl.metadata (2.5 kB)\n",
      "Collecting cffi>=1.12 (from cryptography->cryptease->mano)\n",
      "  Downloading cffi-1.17.1-cp311-cp311-manylinux_2_17_x86_64.manylinux2014_x86_64.whl.metadata (1.5 kB)\n",
      "Collecting pycparser (from cffi>=1.12->cryptography->cryptease->mano)\n",
      "  Downloading pycparser-2.22-py3-none-any.whl.metadata (943 bytes)\n",
      "Downloading mano-0.5.2-py2.py3-none-any.whl (9.4 kB)\n",
      "Downloading cryptease-0.2.0-py2.py3-none-any.whl (8.2 kB)\n",
      "Downloading lxml-5.3.1-cp311-cp311-manylinux_2_28_x86_64.whl (5.0 MB)\n",
      "\u001b[2K   \u001b[90m━━━━━━━━━━━━━━━━━━━━━━━━━━━━━━━━━━━━━━━━\u001b[0m \u001b[32m5.0/5.0 MB\u001b[0m \u001b[31m78.6 MB/s\u001b[0m eta \u001b[36m0:00:00\u001b[0m\n",
      "\u001b[?25hDownloading requests-2.32.3-py3-none-any.whl (64 kB)\n",
      "Downloading certifi-2025.1.31-py3-none-any.whl (166 kB)\n",
      "Downloading charset_normalizer-3.4.1-cp311-cp311-manylinux_2_17_x86_64.manylinux2014_x86_64.whl (143 kB)\n",
      "Downloading idna-3.10-py3-none-any.whl (70 kB)\n",
      "Downloading urllib3-2.3.0-py3-none-any.whl (128 kB)\n",
      "Downloading cryptography-44.0.2-cp39-abi3-manylinux_2_28_x86_64.whl (4.2 MB)\n",
      "\u001b[2K   \u001b[90m━━━━━━━━━━━━━━━━━━━━━━━━━━━━━━━━━━━━━━━━\u001b[0m \u001b[32m4.2/4.2 MB\u001b[0m \u001b[31m76.9 MB/s\u001b[0m eta \u001b[36m0:00:00\u001b[0m\n",
      "\u001b[?25hDownloading cffi-1.17.1-cp311-cp311-manylinux_2_17_x86_64.manylinux2014_x86_64.whl (467 kB)\n",
      "Downloading pycparser-2.22-py3-none-any.whl (117 kB)\n",
      "Installing collected packages: urllib3, pycparser, lxml, idna, charset-normalizer, certifi, requests, cffi, cryptography, cryptease, mano\n",
      "Successfully installed certifi-2025.1.31 cffi-1.17.1 charset-normalizer-3.4.1 cryptease-0.2.0 cryptography-44.0.2 idna-3.10 lxml-5.3.1 mano-0.5.2 pycparser-2.22 requests-2.32.3 urllib3-2.3.0\n",
      "Note: you may need to restart the kernel to use updated packages.\n",
      "Collecting https://github.com/onnela-lab/forest/tarball/develop\n",
      "  Downloading https://github.com/onnela-lab/forest/tarball/develop\n",
      "\u001b[2K     \u001b[32m-\u001b[0m \u001b[32m410.8 kB\u001b[0m \u001b[31m11.1 MB/s\u001b[0m \u001b[33m0:00:00\u001b[0m\n",
      "\u001b[?25h  Installing build dependencies ... \u001b[?25ldone\n",
      "\u001b[?25h  Getting requirements to build wheel ... \u001b[?25ldone\n",
      "\u001b[?25h  Preparing metadata (pyproject.toml) ... \u001b[?25ldone\n",
      "\u001b[?25hCollecting holidays (from beiwe-forest==1.0rc2)\n",
      "  Downloading holidays-0.68-py3-none-any.whl.metadata (27 kB)\n",
      "Collecting librosa (from beiwe-forest==1.0rc2)\n",
      "  Downloading librosa-0.10.2.post1-py3-none-any.whl.metadata (8.6 kB)\n",
      "Collecting numpy (from beiwe-forest==1.0rc2)\n",
      "  Downloading numpy-2.2.3-cp311-cp311-manylinux_2_17_x86_64.manylinux2014_x86_64.whl.metadata (62 kB)\n",
      "Collecting openrouteservice (from beiwe-forest==1.0rc2)\n",
      "  Downloading openrouteservice-2.3.3-py3-none-any.whl.metadata (9.2 kB)\n",
      "Collecting pandas (from beiwe-forest==1.0rc2)\n",
      "  Downloading pandas-2.2.3-cp311-cp311-manylinux_2_17_x86_64.manylinux2014_x86_64.whl.metadata (89 kB)\n",
      "Collecting pyproj (from beiwe-forest==1.0rc2)\n",
      "  Downloading pyproj-3.7.1-cp311-cp311-manylinux_2_17_x86_64.manylinux2014_x86_64.whl.metadata (31 kB)\n",
      "Requirement already satisfied: python-dateutil in /n/home01/egraff/.conda/envs/forest_env/lib/python3.11/site-packages (from beiwe-forest==1.0rc2) (2.9.0.post0)\n",
      "Collecting pytz (from beiwe-forest==1.0rc2)\n",
      "  Downloading pytz-2025.1-py2.py3-none-any.whl.metadata (22 kB)\n",
      "Collecting ratelimit (from beiwe-forest==1.0rc2)\n",
      "  Downloading ratelimit-2.2.1.tar.gz (5.3 kB)\n",
      "  Preparing metadata (setup.py) ... \u001b[?25ldone\n",
      "\u001b[?25hRequirement already satisfied: requests in /n/home01/egraff/.conda/envs/forest_env/lib/python3.11/site-packages (from beiwe-forest==1.0rc2) (2.32.3)\n",
      "Collecting scipy (from beiwe-forest==1.0rc2)\n",
      "  Downloading scipy-1.15.2-cp311-cp311-manylinux_2_17_x86_64.manylinux2014_x86_64.whl.metadata (61 kB)\n",
      "Collecting shapely (from beiwe-forest==1.0rc2)\n",
      "  Downloading shapely-2.0.7-cp311-cp311-manylinux_2_17_x86_64.manylinux2014_x86_64.whl.metadata (6.8 kB)\n",
      "Collecting ssqueezepy (from beiwe-forest==1.0rc2)\n",
      "  Downloading ssqueezepy-0.6.5-py3-none-any.whl.metadata (14 kB)\n",
      "Collecting timezonefinder (from beiwe-forest==1.0rc2)\n",
      "  Downloading timezonefinder-6.5.8-cp311-cp311-manylinux_2_17_x86_64.manylinux_2_5_x86_64.manylinux1_x86_64.manylinux2014_x86_64.whl.metadata (4.1 kB)\n",
      "Collecting audioread>=2.1.9 (from librosa->beiwe-forest==1.0rc2)\n",
      "  Downloading audioread-3.0.1-py3-none-any.whl.metadata (8.4 kB)\n",
      "Collecting scikit-learn>=0.20.0 (from librosa->beiwe-forest==1.0rc2)\n",
      "  Downloading scikit_learn-1.6.1-cp311-cp311-manylinux_2_17_x86_64.manylinux2014_x86_64.whl.metadata (18 kB)\n",
      "Collecting joblib>=0.14 (from librosa->beiwe-forest==1.0rc2)\n",
      "  Downloading joblib-1.4.2-py3-none-any.whl.metadata (5.4 kB)\n",
      "Requirement already satisfied: decorator>=4.3.0 in /n/home01/egraff/.conda/envs/forest_env/lib/python3.11/site-packages (from librosa->beiwe-forest==1.0rc2) (5.2.1)\n",
      "Collecting numba>=0.51.0 (from librosa->beiwe-forest==1.0rc2)\n",
      "  Downloading numba-0.61.0-cp311-cp311-manylinux2014_x86_64.manylinux_2_17_x86_64.whl.metadata (2.8 kB)\n",
      "Collecting soundfile>=0.12.1 (from librosa->beiwe-forest==1.0rc2)\n",
      "  Downloading soundfile-0.13.1-py2.py3-none-manylinux_2_28_x86_64.whl.metadata (16 kB)\n",
      "Collecting pooch>=1.1 (from librosa->beiwe-forest==1.0rc2)\n",
      "  Downloading pooch-1.8.2-py3-none-any.whl.metadata (10 kB)\n",
      "Collecting soxr>=0.3.2 (from librosa->beiwe-forest==1.0rc2)\n",
      "  Downloading soxr-0.5.0.post1-cp311-cp311-manylinux_2_17_x86_64.manylinux2014_x86_64.whl.metadata (5.6 kB)\n",
      "Requirement already satisfied: typing-extensions>=4.1.1 in /n/home01/egraff/.conda/envs/forest_env/lib/python3.11/site-packages (from librosa->beiwe-forest==1.0rc2) (4.12.2)\n",
      "Collecting lazy-loader>=0.1 (from librosa->beiwe-forest==1.0rc2)\n",
      "  Downloading lazy_loader-0.4-py3-none-any.whl.metadata (7.6 kB)\n",
      "Collecting msgpack>=1.0 (from librosa->beiwe-forest==1.0rc2)\n",
      "  Downloading msgpack-1.1.0-cp311-cp311-manylinux_2_17_x86_64.manylinux2014_x86_64.whl.metadata (8.4 kB)\n",
      "Requirement already satisfied: charset-normalizer<4,>=2 in /n/home01/egraff/.conda/envs/forest_env/lib/python3.11/site-packages (from requests->beiwe-forest==1.0rc2) (3.4.1)\n",
      "Requirement already satisfied: idna<4,>=2.5 in /n/home01/egraff/.conda/envs/forest_env/lib/python3.11/site-packages (from requests->beiwe-forest==1.0rc2) (3.10)\n",
      "Requirement already satisfied: urllib3<3,>=1.21.1 in /n/home01/egraff/.conda/envs/forest_env/lib/python3.11/site-packages (from requests->beiwe-forest==1.0rc2) (2.3.0)\n",
      "Requirement already satisfied: certifi>=2017.4.17 in /n/home01/egraff/.conda/envs/forest_env/lib/python3.11/site-packages (from requests->beiwe-forest==1.0rc2) (2025.1.31)\n",
      "Collecting tzdata>=2022.7 (from pandas->beiwe-forest==1.0rc2)\n",
      "  Downloading tzdata-2025.1-py2.py3-none-any.whl.metadata (1.4 kB)\n",
      "Requirement already satisfied: six>=1.5 in /n/home01/egraff/.conda/envs/forest_env/lib/python3.11/site-packages (from python-dateutil->beiwe-forest==1.0rc2) (1.17.0)\n",
      "Requirement already satisfied: cffi<2,>=1.15.1 in /n/home01/egraff/.conda/envs/forest_env/lib/python3.11/site-packages (from timezonefinder->beiwe-forest==1.0rc2) (1.17.1)\n",
      "Collecting h3>4 (from timezonefinder->beiwe-forest==1.0rc2)\n",
      "  Downloading h3-4.2.1-cp311-cp311-manylinux_2_17_x86_64.manylinux2014_x86_64.whl.metadata (18 kB)\n",
      "Requirement already satisfied: pycparser in /n/home01/egraff/.conda/envs/forest_env/lib/python3.11/site-packages (from cffi<2,>=1.15.1->timezonefinder->beiwe-forest==1.0rc2) (2.22)\n",
      "Requirement already satisfied: packaging in /n/home01/egraff/.conda/envs/forest_env/lib/python3.11/site-packages (from lazy-loader>=0.1->librosa->beiwe-forest==1.0rc2) (24.2)\n",
      "Collecting llvmlite<0.45,>=0.44.0dev0 (from numba>=0.51.0->librosa->beiwe-forest==1.0rc2)\n",
      "  Downloading llvmlite-0.44.0-cp311-cp311-manylinux_2_17_x86_64.manylinux2014_x86_64.whl.metadata (4.8 kB)\n",
      "Collecting numpy (from beiwe-forest==1.0rc2)\n",
      "  Downloading numpy-2.1.3-cp311-cp311-manylinux_2_17_x86_64.manylinux2014_x86_64.whl.metadata (62 kB)\n",
      "Requirement already satisfied: platformdirs>=2.5.0 in /n/home01/egraff/.conda/envs/forest_env/lib/python3.11/site-packages (from pooch>=1.1->librosa->beiwe-forest==1.0rc2) (4.3.6)\n",
      "Collecting threadpoolctl>=3.1.0 (from scikit-learn>=0.20.0->librosa->beiwe-forest==1.0rc2)\n",
      "  Downloading threadpoolctl-3.5.0-py3-none-any.whl.metadata (13 kB)\n",
      "Downloading holidays-0.68-py3-none-any.whl (824 kB)\n",
      "\u001b[2K   \u001b[90m━━━━━━━━━━━━━━━━━━━━━━━━━━━━━━━━━━━━━━━━\u001b[0m \u001b[32m824.7/824.7 kB\u001b[0m \u001b[31m26.4 MB/s\u001b[0m eta \u001b[36m0:00:00\u001b[0m\n",
      "\u001b[?25hDownloading librosa-0.10.2.post1-py3-none-any.whl (260 kB)\n",
      "Downloading scipy-1.15.2-cp311-cp311-manylinux_2_17_x86_64.manylinux2014_x86_64.whl (37.6 MB)\n",
      "\u001b[2K   \u001b[90m━━━━━━━━━━━━━━━━━━━━━━━━━━━━━━━━━━━━━━━━\u001b[0m \u001b[32m37.6/37.6 MB\u001b[0m \u001b[31m91.4 MB/s\u001b[0m eta \u001b[36m0:00:00\u001b[0m:00:01\u001b[0m00:01\u001b[0m\n",
      "\u001b[?25hDownloading openrouteservice-2.3.3-py3-none-any.whl (33 kB)\n",
      "Downloading pandas-2.2.3-cp311-cp311-manylinux_2_17_x86_64.manylinux2014_x86_64.whl (13.1 MB)\n",
      "\u001b[2K   \u001b[90m━━━━━━━━━━━━━━━━━━━━━━━━━━━━━━━━━━━━━━━━\u001b[0m \u001b[32m13.1/13.1 MB\u001b[0m \u001b[31m58.5 MB/s\u001b[0m eta \u001b[36m0:00:00\u001b[0m00:01\u001b[0m\n",
      "\u001b[?25hDownloading pytz-2025.1-py2.py3-none-any.whl (507 kB)\n",
      "Downloading pyproj-3.7.1-cp311-cp311-manylinux_2_17_x86_64.manylinux2014_x86_64.whl (9.5 MB)\n",
      "\u001b[2K   \u001b[90m━━━━━━━━━━━━━━━━━━━━━━━━━━━━━━━━━━━━━━━━\u001b[0m \u001b[32m9.5/9.5 MB\u001b[0m \u001b[31m86.8 MB/s\u001b[0m eta \u001b[36m0:00:00\u001b[0m\n",
      "\u001b[?25hDownloading shapely-2.0.7-cp311-cp311-manylinux_2_17_x86_64.manylinux2014_x86_64.whl (2.5 MB)\n",
      "\u001b[2K   \u001b[90m━━━━━━━━━━━━━━━━━━━━━━━━━━━━━━━━━━━━━━━━\u001b[0m \u001b[32m2.5/2.5 MB\u001b[0m \u001b[31m72.5 MB/s\u001b[0m eta \u001b[36m0:00:00\u001b[0m\n",
      "\u001b[?25hDownloading ssqueezepy-0.6.5-py3-none-any.whl (127 kB)\n",
      "Downloading timezonefinder-6.5.8-cp311-cp311-manylinux_2_17_x86_64.manylinux_2_5_x86_64.manylinux1_x86_64.manylinux2014_x86_64.whl (51.3 MB)\n",
      "\u001b[2K   \u001b[90m━━━━━━━━━━━━━━━━━━━━━━━━━━━━━━━━━━━━━━━━\u001b[0m \u001b[32m51.3/51.3 MB\u001b[0m \u001b[31m103.5 MB/s\u001b[0m eta \u001b[36m0:00:00\u001b[0m00:01\u001b[0m\n",
      "\u001b[?25hDownloading audioread-3.0.1-py3-none-any.whl (23 kB)\n",
      "Downloading h3-4.2.1-cp311-cp311-manylinux_2_17_x86_64.manylinux2014_x86_64.whl (1.0 MB)\n",
      "\u001b[2K   \u001b[90m━━━━━━━━━━━━━━━━━━━━━━━━━━━━━━━━━━━━━━━━\u001b[0m \u001b[32m1.0/1.0 MB\u001b[0m \u001b[31m35.6 MB/s\u001b[0m eta \u001b[36m0:00:00\u001b[0m\n",
      "\u001b[?25hDownloading joblib-1.4.2-py3-none-any.whl (301 kB)\n",
      "Downloading lazy_loader-0.4-py3-none-any.whl (12 kB)\n",
      "Downloading msgpack-1.1.0-cp311-cp311-manylinux_2_17_x86_64.manylinux2014_x86_64.whl (403 kB)\n",
      "Downloading numba-0.61.0-cp311-cp311-manylinux2014_x86_64.manylinux_2_17_x86_64.whl (3.8 MB)\n",
      "\u001b[2K   \u001b[90m━━━━━━━━━━━━━━━━━━━━━━━━━━━━━━━━━━━━━━━━\u001b[0m \u001b[32m3.8/3.8 MB\u001b[0m \u001b[31m90.8 MB/s\u001b[0m eta \u001b[36m0:00:00\u001b[0m\n",
      "\u001b[?25hDownloading numpy-2.1.3-cp311-cp311-manylinux_2_17_x86_64.manylinux2014_x86_64.whl (16.3 MB)\n",
      "\u001b[2K   \u001b[90m━━━━━━━━━━━━━━━━━━━━━━━━━━━━━━━━━━━━━━━━\u001b[0m \u001b[32m16.3/16.3 MB\u001b[0m \u001b[31m37.5 MB/s\u001b[0m eta \u001b[36m0:00:00\u001b[0m00:01\u001b[0m:00:01\u001b[0m\n",
      "\u001b[?25hDownloading pooch-1.8.2-py3-none-any.whl (64 kB)\n",
      "Downloading scikit_learn-1.6.1-cp311-cp311-manylinux_2_17_x86_64.manylinux2014_x86_64.whl (13.5 MB)\n",
      "\u001b[2K   \u001b[90m━━━━━━━━━━━━━━━━━━━━━━━━━━━━━━━━━━━━━━━━\u001b[0m \u001b[32m13.5/13.5 MB\u001b[0m \u001b[31m92.2 MB/s\u001b[0m eta \u001b[36m0:00:00\u001b[0m\n",
      "\u001b[?25hDownloading soundfile-0.13.1-py2.py3-none-manylinux_2_28_x86_64.whl (1.3 MB)\n",
      "\u001b[2K   \u001b[90m━━━━━━━━━━━━━━━━━━━━━━━━━━━━━━━━━━━━━━━━\u001b[0m \u001b[32m1.3/1.3 MB\u001b[0m \u001b[31m60.5 MB/s\u001b[0m eta \u001b[36m0:00:00\u001b[0m\n",
      "\u001b[?25hDownloading soxr-0.5.0.post1-cp311-cp311-manylinux_2_17_x86_64.manylinux2014_x86_64.whl (252 kB)\n",
      "Downloading tzdata-2025.1-py2.py3-none-any.whl (346 kB)\n",
      "Downloading llvmlite-0.44.0-cp311-cp311-manylinux_2_17_x86_64.manylinux2014_x86_64.whl (42.4 MB)\n",
      "\u001b[2K   \u001b[90m━━━━━━━━━━━━━━━━━━━━━━━━━━━━━━━━━━━━━━━━\u001b[0m \u001b[32m42.4/42.4 MB\u001b[0m \u001b[31m100.2 MB/s\u001b[0m eta \u001b[36m0:00:00\u001b[0m00:01\u001b[0m\n",
      "\u001b[?25hDownloading threadpoolctl-3.5.0-py3-none-any.whl (18 kB)\n",
      "Building wheels for collected packages: beiwe-forest, ratelimit\n",
      "  Building wheel for beiwe-forest (pyproject.toml) ... \u001b[?25ldone\n",
      "\u001b[?25h  Created wheel for beiwe-forest: filename=beiwe_forest-1.0rc2-py3-none-any.whl size=120274 sha256=fc7c17be36a627561e565c05e00c8c7c421f48db2c4befe2b207051fd8a3969b\n",
      "  Stored in directory: /tmp/pip-ephem-wheel-cache-7gz097tv/wheels/cd/ad/53/d7768a3bef765a14d5063bbcd0c9158bdc4229b39a6b96c4b7\n",
      "  Building wheel for ratelimit (setup.py) ... \u001b[?25ldone\n",
      "\u001b[?25h  Created wheel for ratelimit: filename=ratelimit-2.2.1-py3-none-any.whl size=5939 sha256=8524536536b2e35f1b7e278677eb525ab22861453c8a5a6190ee02dc24d82b2f\n",
      "  Stored in directory: /n/home01/egraff/.cache/pip/wheels/ee/d5/e5/8fbffe089140fb498987b7709becf861086daace105d243475\n",
      "Successfully built beiwe-forest ratelimit\n",
      "Installing collected packages: ratelimit, pytz, tzdata, threadpoolctl, pyproj, numpy, msgpack, llvmlite, lazy-loader, joblib, h3, audioread, timezonefinder, soxr, soundfile, shapely, scipy, pooch, pandas, openrouteservice, numba, holidays, ssqueezepy, scikit-learn, librosa, beiwe-forest\n",
      "Successfully installed audioread-3.0.1 beiwe-forest-1.0rc2 h3-4.2.1 holidays-0.68 joblib-1.4.2 lazy-loader-0.4 librosa-0.10.2.post1 llvmlite-0.44.0 msgpack-1.1.0 numba-0.61.0 numpy-2.1.3 openrouteservice-2.3.3 pandas-2.2.3 pooch-1.8.2 pyproj-3.7.1 pytz-2025.1 ratelimit-2.2.1 scikit-learn-1.6.1 scipy-1.15.2 shapely-2.0.7 soundfile-0.13.1 soxr-0.5.0.post1 ssqueezepy-0.6.5 threadpoolctl-3.5.0 timezonefinder-6.5.8 tzdata-2025.1\n",
      "Note: you may need to restart the kernel to use updated packages.\n",
      "Collecting orjson\n",
      "  Downloading orjson-3.10.15-cp311-cp311-manylinux_2_17_x86_64.manylinux2014_x86_64.whl.metadata (41 kB)\n",
      "Downloading orjson-3.10.15-cp311-cp311-manylinux_2_17_x86_64.manylinux2014_x86_64.whl (130 kB)\n",
      "Installing collected packages: orjson\n",
      "Successfully installed orjson-3.10.15\n",
      "Note: you may need to restart the kernel to use updated packages.\n"
     ]
    }
   ],
   "source": [
    "#run this chunk to install mano and forest\n",
    "%pip install mano \n",
    "%pip install --upgrade https://github.com/onnela-lab/forest/tarball/develop\n",
    "%pip install orjson"
   ]
  },
  {
   "cell_type": "markdown",
   "metadata": {},
   "source": [
    "`# Or, copy and paste the below lines into a command-line shell` \n",
    "\n",
    "`pip install mano`\n",
    "\n",
    "`pip install https://github.com/onnela-lab/forest/tarball/develop`"
   ]
  },
  {
   "cell_type": "markdown",
   "metadata": {},
   "source": [
    "Note: In this notebook, you will install the develop branch of forest. This branch has all of the most recent features (including location type information), but function names are slightly different than in the main branch, so they may not match what is on the website. To find documentation specific to the develop branch, look at the current version's docstring by typing a function name and holding shift+tab."
   ]
  },
  {
   "cell_type": "markdown",
   "metadata": {},
   "source": [
    "## Download Beiwe Data\n"
   ]
  },
  {
   "cell_type": "markdown",
   "metadata": {},
   "source": [
    "In this notebook, we will download data from a beiwe study. Edit the cell below to match parameters in your study."
   ]
  },
  {
   "cell_type": "markdown",
   "metadata": {},
   "source": [
    "- For **study_id**, enter the \"study ID, found in the top right corner of the study page\". \n",
    "- For **direc**, the current working directory will be used. If you want data to be stored in another directory, change this variable to another string with the desired filepath. \n",
    "- For **dest_folder_name**, enter the \"name of the folder you want raw data stored in\". \n",
    "- For **server**, enter the server where data is located. If your Beiwe website URL starts with studies.beiwe.org, enter \"studies\"\n",
    "- For **time_start**, enter the earliest date you want to download data for, in YYYY-MM-DD format.\n",
    "- For **time_end**, enter the latest date you want to download data for, in YYYY-MM-DD format. If this is None, mano will download all data available (up until today at midnight). \n",
    "- For **data_streams**, enter a list of data streams you want to download. Forest currently analyzes `gps`, `survey_timings`, `calls`, and `texts` data streams. A full list of data types can be found under the \"Download Data\" tab of the Beiwe website. If this is None, all possible data streams will be downloaded. \n",
    "- For **beiwe_ids**, enter a list of Beiwe IDs you want to download data for. If you leave this as an empty list, mano will attempt to download data for all user IDs"
   ]
  },
  {
   "cell_type": "code",
   "execution_count": 10,
   "metadata": {},
   "outputs": [],
   "source": [
    "import os\n",
    "# Test for one HOPE study, one user\n",
    "# in the order of: DFCI_Wright_HOPE Trial Phase 2, DFCI_Wright_HOPE Trial Phase 2_Passive Data Only, DFCI_Wright_HOPE Trial, DFCI_Wright_HOPE Troubleshooting, DFCI_Wright_HOPE Test, DFCI_Wright_HOPE_Test 2\n",
    "HOPE_STUDY_IDS = ['598365d5388cd66a62ac1f9e', '5a2ae1dc03d3c425ef0ea752', '588224eff4d48a76f488cdfd', '5a79f17d03d3c45080924ed4', '59c2b5b4388cd6715a958247', '5h7D9XT2vrN3BWkdcbYVNtpI'] \n",
    "study_id = HOPE_STUDY_IDS[0] # test on one part of the study \n",
    "direc = os.path.abspath(\"../../data/\") # set to the desired directory\n",
    "dest_folder_name = \"raw_data\"\n",
    "server = \"studies\"\n",
    "time_start = \"2017-01-01\"\n",
    "time_end = None\n",
    "# for now focus on passive data - specifically gps and accelerometer\n",
    "data_streams = [\"gps\"] #, \"survey_timings\", \"survey_answers\", \"audio_recordings\", \"calls\", \"texts\", \"accelerometer\"]\n",
    "# for now test on one user\n",
    "# then pull all user ids from participant table -- see Marta's code \n",
    "beiwe_ids = ['u2l3u6og'] \n",
    "\n",
    "dest_dir = os.path.join(direc, dest_folder_name)"
   ]
  },
  {
   "cell_type": "markdown",
   "metadata": {},
   "source": [
    "In this next cell, we will import our keyring_studies.py file which includes download credentials. If you haven't already done this, open the keyring_studies.py file and paste your credentials inside. \n",
    "\n",
    "If your keyring_studies.py file is in a different directory than the one which includes this notebook, replace `sys.path.insert(0, '')` with `sys.path.insert(0, 'path/to/dir/containing/file/')`."
   ]
  },
  {
   "cell_type": "code",
   "execution_count": 12,
   "metadata": {},
   "outputs": [],
   "source": [
    "# import .py file located in another directory if needed\n",
    "import mano\n",
    "import sys\n",
    "sys.path.insert(0, direc)\n",
    "\n",
    "import keyring_studies\n",
    "kr = mano.keyring(None)"
   ]
  },
  {
   "cell_type": "markdown",
   "metadata": {},
   "source": [
    "This next cell will download your data. Downloading your data will probably be the most time-consuming part of the whole process, so if you've already downloaded the data, you will save time by not running this cell."
   ]
  },
  {
   "cell_type": "code",
   "execution_count": 13,
   "metadata": {},
   "outputs": [
    {
     "name": "stdout",
     "output_type": "stream",
     "text": [
      "Downloading data for u2l3u6og\n"
     ]
    }
   ],
   "source": [
    "import os\n",
    "\n",
    "from helper_functions import download_data\n",
    "download_data(kr, study_id, dest_dir, beiwe_ids, time_start, time_end, data_streams)"
   ]
  },
  {
   "cell_type": "markdown",
   "metadata": {},
   "source": [
    "Next, we can directly explore the structure of the sample Beiwe data that we've just downloaded. \n",
    "\n",
    "At the top level of the directory `/data`, subject-level data is separately contained with subdirectories. Each subdirectory are named according to the subject's assigned Beiwe ID. In this sample, we observe the six subdirectories each from a separate study participant. "
   ]
  },
  {
   "cell_type": "code",
   "execution_count": 6,
   "metadata": {},
   "outputs": [
    {
     "name": "stdout",
     "output_type": "stream",
     "text": [
      "raw_data\n"
     ]
    },
    {
     "ename": "FileNotFoundError",
     "evalue": "[Errno 2] No such file or directory: '../../data/raw_data'",
     "output_type": "error",
     "traceback": [
      "\u001b[31m---------------------------------------------------------------------------\u001b[39m",
      "\u001b[31mFileNotFoundError\u001b[39m                         Traceback (most recent call last)",
      "\u001b[36mCell\u001b[39m\u001b[36m \u001b[39m\u001b[32mIn[6]\u001b[39m\u001b[32m, line 5\u001b[39m\n\u001b[32m      2\u001b[39m \u001b[38;5;28;01mfrom\u001b[39;00m\u001b[38;5;250m \u001b[39m\u001b[34;01mpathlib\u001b[39;00m\u001b[38;5;250m \u001b[39m\u001b[38;5;28;01mimport\u001b[39;00m Path\n\u001b[32m      3\u001b[39m \u001b[38;5;28;01mimport\u001b[39;00m\u001b[38;5;250m \u001b[39m\u001b[34;01mpandas\u001b[39;00m\u001b[38;5;250m \u001b[39m\u001b[38;5;28;01mas\u001b[39;00m\u001b[38;5;250m \u001b[39m\u001b[34;01mpd\u001b[39;00m\n\u001b[32m----> \u001b[39m\u001b[32m5\u001b[39m \u001b[43mtree\u001b[49m\u001b[43m(\u001b[49m\u001b[43mdest_dir\u001b[49m\u001b[43m,\u001b[49m\u001b[43m \u001b[49m\u001b[43mlevel\u001b[49m\u001b[43m=\u001b[49m\u001b[32;43m1\u001b[39;49m\u001b[43m,\u001b[49m\u001b[43m \u001b[49m\u001b[43mlimit_to_directories\u001b[49m\u001b[43m=\u001b[49m\u001b[38;5;28;43;01mTrue\u001b[39;49;00m\u001b[43m)\u001b[49m\n",
      "\u001b[36mFile \u001b[39m\u001b[32m~/github/beiwe/code/forest_mano/helper_functions.py:49\u001b[39m, in \u001b[36mtree\u001b[39m\u001b[34m(dir_path, level, limit_to_directories, length_limit)\u001b[39m\n\u001b[32m     47\u001b[39m \u001b[38;5;28mprint\u001b[39m(dir_path.name)\n\u001b[32m     48\u001b[39m iterator = inner(dir_path, level=level)\n\u001b[32m---> \u001b[39m\u001b[32m49\u001b[39m \u001b[43m\u001b[49m\u001b[38;5;28;43;01mfor\u001b[39;49;00m\u001b[43m \u001b[49m\u001b[43mline\u001b[49m\u001b[43m \u001b[49m\u001b[38;5;129;43;01min\u001b[39;49;00m\u001b[43m \u001b[49m\u001b[43mislice\u001b[49m\u001b[43m(\u001b[49m\u001b[43miterator\u001b[49m\u001b[43m,\u001b[49m\u001b[43m \u001b[49m\u001b[43mlength_limit\u001b[49m\u001b[43m)\u001b[49m\u001b[43m:\u001b[49m\n\u001b[32m     50\u001b[39m \u001b[43m    \u001b[49m\u001b[38;5;28;43mprint\u001b[39;49m\u001b[43m(\u001b[49m\u001b[43mline\u001b[49m\u001b[43m)\u001b[49m\n\u001b[32m     51\u001b[39m \u001b[38;5;28;01mif\u001b[39;00m \u001b[38;5;28mnext\u001b[39m(iterator, \u001b[38;5;28;01mNone\u001b[39;00m):\n",
      "\u001b[36mFile \u001b[39m\u001b[32m~/github/beiwe/code/forest_mano/helper_functions.py:34\u001b[39m, in \u001b[36mtree.<locals>.inner\u001b[39m\u001b[34m(dir_path, prefix, level)\u001b[39m\n\u001b[32m     32\u001b[39m     \u001b[38;5;28;01mreturn\u001b[39;00m \u001b[38;5;66;03m# 0, stop iterating\u001b[39;00m\n\u001b[32m     33\u001b[39m \u001b[38;5;28;01mif\u001b[39;00m limit_to_directories:\n\u001b[32m---> \u001b[39m\u001b[32m34\u001b[39m     contents = \u001b[43m[\u001b[49m\u001b[43md\u001b[49m\u001b[43m \u001b[49m\u001b[38;5;28;43;01mfor\u001b[39;49;00m\u001b[43m \u001b[49m\u001b[43md\u001b[49m\u001b[43m \u001b[49m\u001b[38;5;129;43;01min\u001b[39;49;00m\u001b[43m \u001b[49m\u001b[43mdir_path\u001b[49m\u001b[43m.\u001b[49m\u001b[43miterdir\u001b[49m\u001b[43m(\u001b[49m\u001b[43m)\u001b[49m\u001b[43m \u001b[49m\u001b[38;5;28;43;01mif\u001b[39;49;00m\u001b[43m \u001b[49m\u001b[43md\u001b[49m\u001b[43m.\u001b[49m\u001b[43mis_dir\u001b[49m\u001b[43m(\u001b[49m\u001b[43m)\u001b[49m\u001b[43m]\u001b[49m\n\u001b[32m     35\u001b[39m \u001b[38;5;28;01melse\u001b[39;00m: \n\u001b[32m     36\u001b[39m     contents = \u001b[38;5;28mlist\u001b[39m(dir_path.iterdir())\n",
      "\u001b[36mFile \u001b[39m\u001b[32m~/github/beiwe/code/forest_mano/helper_functions.py:34\u001b[39m, in \u001b[36m<listcomp>\u001b[39m\u001b[34m(.0)\u001b[39m\n\u001b[32m     32\u001b[39m     \u001b[38;5;28;01mreturn\u001b[39;00m \u001b[38;5;66;03m# 0, stop iterating\u001b[39;00m\n\u001b[32m     33\u001b[39m \u001b[38;5;28;01mif\u001b[39;00m limit_to_directories:\n\u001b[32m---> \u001b[39m\u001b[32m34\u001b[39m     contents = \u001b[43m[\u001b[49m\u001b[43md\u001b[49m\u001b[43m \u001b[49m\u001b[38;5;28;43;01mfor\u001b[39;49;00m\u001b[43m \u001b[49m\u001b[43md\u001b[49m\u001b[43m \u001b[49m\u001b[38;5;129;43;01min\u001b[39;49;00m\u001b[43m \u001b[49m\u001b[43mdir_path\u001b[49m\u001b[43m.\u001b[49m\u001b[43miterdir\u001b[49m\u001b[43m(\u001b[49m\u001b[43m)\u001b[49m\u001b[43m \u001b[49m\u001b[38;5;28;43;01mif\u001b[39;49;00m\u001b[43m \u001b[49m\u001b[43md\u001b[49m\u001b[43m.\u001b[49m\u001b[43mis_dir\u001b[49m\u001b[43m(\u001b[49m\u001b[43m)\u001b[49m\u001b[43m]\u001b[49m\n\u001b[32m     35\u001b[39m \u001b[38;5;28;01melse\u001b[39;00m: \n\u001b[32m     36\u001b[39m     contents = \u001b[38;5;28mlist\u001b[39m(dir_path.iterdir())\n",
      "\u001b[36mFile \u001b[39m\u001b[32m~/.conda/envs/forest_env/lib/python3.11/pathlib.py:931\u001b[39m, in \u001b[36mPath.iterdir\u001b[39m\u001b[34m(self)\u001b[39m\n\u001b[32m    927\u001b[39m \u001b[38;5;28;01mdef\u001b[39;00m\u001b[38;5;250m \u001b[39m\u001b[34miterdir\u001b[39m(\u001b[38;5;28mself\u001b[39m):\n\u001b[32m    928\u001b[39m \u001b[38;5;250m    \u001b[39m\u001b[33;03m\"\"\"Iterate over the files in this directory.  Does not yield any\u001b[39;00m\n\u001b[32m    929\u001b[39m \u001b[33;03m    result for the special paths '.' and '..'.\u001b[39;00m\n\u001b[32m    930\u001b[39m \u001b[33;03m    \"\"\"\u001b[39;00m\n\u001b[32m--> \u001b[39m\u001b[32m931\u001b[39m     \u001b[38;5;28;01mfor\u001b[39;00m name \u001b[38;5;129;01min\u001b[39;00m \u001b[43mos\u001b[49m\u001b[43m.\u001b[49m\u001b[43mlistdir\u001b[49m\u001b[43m(\u001b[49m\u001b[38;5;28;43mself\u001b[39;49m\u001b[43m)\u001b[49m:\n\u001b[32m    932\u001b[39m         \u001b[38;5;28;01myield\u001b[39;00m \u001b[38;5;28mself\u001b[39m._make_child_relpath(name)\n",
      "\u001b[31mFileNotFoundError\u001b[39m: [Errno 2] No such file or directory: '../../data/raw_data'"
     ]
    }
   ],
   "source": [
    "from helper_functions import tree\n",
    "from pathlib import Path\n",
    "import pandas as pd\n",
    "\n",
    "tree(dest_dir, level=1, limit_to_directories=True)"
   ]
  },
  {
   "cell_type": "markdown",
   "metadata": {},
   "source": [
    "## Process Data using Forest \n",
    "- Using the Forest library developed by the Onnela lab, we compute daily GPS and communication summary statistics"
   ]
  },
  {
   "cell_type": "markdown",
   "metadata": {},
   "source": [
    "First, we generate the GPS-related summary statistics by using the **gps_stats_main** function under the **traj2stat.py** in the Jasmine tree of Forest. This code will take between 15 minutes to 12 hours to run, depending on your machine and the quantity of data downloaded. To make sure that everything is working right, change the `beiwe_ids` argument from `None` to a list with just a couple of the Beiwe IDs in your study."
   ]
  },
  {
   "cell_type": "markdown",
   "metadata": {},
   "source": [
    "- For **data_dir**, enter the \"path to the data file directory\". This will be the same directory you downloaded data into.\n",
    "- For **output_dir**, enter the \"path to the file directory where output is to be stored\". \n",
    "- For **tz_str**, enter the time zone where the study was conducted. Here, it's **\"America/New_York.\"** We can use \"pytz.all_timezones\" to check all options.\n",
    "- For **frequency**, there are 'daily' or 'hourly' or 'both' for the temporal resolution for summary statistics. Currently, one must pass this as one of the Frequency class imported from Jasmine. So, you may use Frequency.HOURLY or Frequency.DAILY\n",
    "- For **save_traj**, it's \"True\" if you want to save the trajectories as a csv file, \"False\" if you don't (default: False). Here, we chose **\"True.\"**\n",
    "- For **beiwe_ids**, enter the list of Beiwe IDs to run Forest on. If this is `None`, jasmine will run on all users in the data_dir directory.\n",
    "- For **places_of_interest**, enter a list of places of interest. This list must contain keywords from [openstreetmaps](https://wiki.openstreetmap.org/wiki/OpenStreetBrowser/Category_list)\n",
    "\n",
    "There are also more optional arguments that can be passed to the function, which are located in the Hyperparameters class in the traj2stat.py file. These include:\n",
    "- For **log_threshold**, enter the number of minutes required to be spent at a place to count as a place\n",
    "- For **save_osm_log**, enter whether you want to save the log associated with places of interest.\n",
    "\n",
    "and others as can been seen in the class definition."
   ]
  },
  {
   "cell_type": "code",
   "execution_count": null,
   "metadata": {},
   "outputs": [],
   "source": [
    "from forest.jasmine.traj2stats import gps_stats_main, Hyperparameters\n",
    "from forest.constants import Frequency\n",
    "\n",
    "data_dir = dest_dir\n",
    "gps_output_dir = \"gps_output\"\n",
    "tz_str = \"America/New_York\"\n",
    "freq = Frequency.DAILY\n",
    "save_traj = True \n",
    "beiwe_ids = None\n",
    "places_of_interest = None\n",
    "\n",
    "# if you are not interested in more specific hyperparameters, you can use the default ones\n",
    "# by setting parameters = None or not passing in the parameters argument\n",
    "parameters = Hyperparameters()\n",
    "parameters.save_osm_log = False\n",
    "parameters.log_threshold = 60 # threshold, in minutes, for logging locations if OSM analysis is enabled\n",
    "parameters.pcr_bool = True # enables physical circadian rhythm (PCR) statistics\n",
    "parameters.pcr_window = 14 # number of days to look back and forward for calculating PCR\n",
    "parameters.pcr_sample_rate = 30 # sample rate in seconds\n",
    "\n",
    "gps_stats_main(\n",
    "    data_dir, gps_output_dir, tz_str, freq, save_traj, places_of_interest = places_of_interest, \n",
    "    participant_ids = beiwe_ids, parameters = parameters\n",
    ")\n"
   ]
  },
  {
   "cell_type": "markdown",
   "metadata": {},
   "source": [
    "*The output should describe how the data is being processed. If this is working correctly, you will see something like:*\n",
    "    \n",
    "><i>User: tcqrulfj  \n",
    "Read in the csv files ...  \n",
    "Collapse data within 10 second intervals ...  \n",
    "Extract flights and pauses ...  \n",
    "Infer unclassified windows ...  \n",
    "Merge consecutive pauses and bridge gaps ...  \n",
    "Selecting basis vectors ...  \n",
    "Imputing missing trajectories ...  \n",
    "Tidying up the trajectories...  \n",
    "Calculating the daily summary stats...<i>"
   ]
  },
  {
   "cell_type": "markdown",
   "metadata": {},
   "source": [
    "We will now contatenate GPS summaries into one file. \n",
    "\n",
    ">*Note- this function appends the frequency value to the end of the filename e.g. \"gps_summaries_daily.csv\"*"
   ]
  },
  {
   "cell_type": "code",
   "execution_count": null,
   "metadata": {},
   "outputs": [],
   "source": [
    "from helper_functions import concatenate_summaries\n",
    "\n",
    "\n",
    "concatenate_summaries(dir_path = os.path.join(direc, gps_output_dir), \n",
    "                      output_filename = os.path.join(direc,\"gps_summaries.csv\"))\n",
    "\n"
   ]
  },
  {
   "cell_type": "markdown",
   "metadata": {},
   "source": [
    "Second, we compute the call and text-based summary statistics by using the **log_stats_main** function under the **log_stats.py** in the Willow tree of Forest. This should run a lot faster than `forest.jasmine.traj2stats.gps_stats_main`. \n"
   ]
  },
  {
   "cell_type": "markdown",
   "metadata": {},
   "source": [
    "- For **data_dir**, enter the \"path to the data file directory\". \n",
    "- For **output_dir**, enter the \"path to the file directory where output is to be stored\". \n",
    "- For **tz_str**, enter the time zone where the study was conducted. Here, it's **\"America/New_York.\"** \n",
    "- For **option**, choose a Frequency value corresponding to the temporal resolution you would like data to be aggregated to. \n",
    "- For **beiwe_ids**, enter the list of Beiwe IDs to run Forest on. If this is `None`, willow will run on all users in the data_dir directory."
   ]
  },
  {
   "cell_type": "code",
   "execution_count": null,
   "metadata": {},
   "outputs": [],
   "source": [
    "import forest.willow.log_stats\n",
    "data_dir = dest_dir\n",
    "comm_output_dir = \"comm_output\"\n",
    "tz_str = \"America/New_York\"\n",
    "option = Frequency.DAILY\n",
    "beiwe_ids = None\n",
    "\n",
    "\n",
    "\n",
    "forest.willow.log_stats.log_stats_main(\n",
    "    data_dir, comm_output_dir, tz_str, option, beiwe_ids = beiwe_ids\n",
    ")"
   ]
  },
  {
   "cell_type": "markdown",
   "metadata": {},
   "source": [
    "*The output should describe how the data is being processed (e.g., read, collapse, extracted...imputing, tidying, and calculating daily summary stats).*\n",
    "\n",
    ">*Note- calls and texts data are only collected on Android phones. If you only enrolled users with iPhones in your study, you will not have any output here.*"
   ]
  },
  {
   "cell_type": "markdown",
   "metadata": {},
   "source": [
    "- The following code is  used to concatenate these files into a single csv for the **communication summaries**."
   ]
  },
  {
   "cell_type": "code",
   "execution_count": null,
   "metadata": {},
   "outputs": [],
   "source": [
    "from helper_functions import concatenate_summaries\n",
    "\n",
    "concatenate_summaries(dir_path = os.path.join(direc,comm_output_dir), \n",
    "                      output_filename = os.path.join(direc,\"comm_summaries.csv\"))\n"
   ]
  },
  {
   "cell_type": "markdown",
   "metadata": {},
   "source": [
    "*The output should show the data for the first five observations in the concatenated dataset.*"
   ]
  },
  {
   "cell_type": "markdown",
   "metadata": {},
   "source": [
    "Next, we summarize survey information using the **survey_stats_main** function under the **base.py** in the Sycamore tree of Forest. This will take between 5 minutes and 2 hours to run, depending on how many surveys were administered durinng your study.\n"
   ]
  },
  {
   "cell_type": "markdown",
   "metadata": {},
   "source": [
    "- For **data_dir**, enter the \"path to the data file directory\". \n",
    "- For **output_dir**, enter the \"path to the file directory where output is to be stored\". \n",
    "- For **tz_str**, enter the time zone where the study was conducted. Here, it's **\"America/New_York.\"** \n",
    "- For **beiwe_ids**, enter the list of Beiwe IDs to run Forest on. If this is `None`, sycamore will run on all users in the data_dir directory.\n",
    "- For **config_path**, enter the filepath to your downloaded survey config file. This can be downloaded by clicking \"edit study\" on your study page, and clicking \"Export study settings JSON file under \"Export/Import study settings\". If this is None, Sycamore will still run, but fewer outputs will be produced. \n",
    "- For **interventions_filepath**, enter the filepath to your downloaded interventions timing file. This can be downloaded by clicking \"edit study\" on your study page, and clicking \"Download Interventions\" next to \"Intervention Data\". If this is None, Sycamore will still run, but fewer outputs will be produced. (note, this doesn't apply if you are using the main version of sycamore)"
   ]
  },
  {
   "cell_type": "code",
   "execution_count": null,
   "metadata": {},
   "outputs": [],
   "source": [
    "from forest.sycamore.base import compute_survey_stats\n",
    "\n",
    "data_dir = dest_dir\n",
    "survey_output_dir = \"survey_output\"\n",
    "tz_str = \"America/New_York\"\n",
    "beiwe_ids = None\n",
    "config_path = None\n",
    "interventions_filepath = None\n",
    "\n",
    "compute_survey_stats(\n",
    "    study_folder = data_dir, output_folder = survey_output_dir,\n",
    "    config_path = config_path, tz_str = tz_str, users = beiwe_ids,\n",
    "    start_date = time_start, end_date = time_end, \n",
    "    interventions_filepath = interventions_filepath)"
   ]
  },
  {
   "cell_type": "markdown",
   "metadata": {},
   "source": [
    "Now, we summarize accelerometer using the **run** function under the **base.py** in the Oak tree of Forest. This tree is in beta testing, so don't be surprised if you encounter errors running this function."
   ]
  },
  {
   "cell_type": "markdown",
   "metadata": {},
   "source": [
    "- For **data_dir**, enter the \"path to the data file directory\". \n",
    "- For **accelerometer_output_dir**, enter the \"path to the file directory where output is to be stored\". \n",
    "- For **tz_str**, enter the time zone where the study was conducted. Here, it's **\"America/New_York.\"** \n",
    "- For **frequency**, choose a value of frequency similar as what was used in jasmine. \n",
    "- For **beiwe_ids**, enter the list of Beiwe IDs to run Forest on. If this is `None`, willow will run on all users in the data_dir directory."
   ]
  },
  {
   "cell_type": "code",
   "execution_count": null,
   "metadata": {},
   "outputs": [],
   "source": [
    "from forest.oak.base import run\n",
    "\n",
    "data_dir = dest_dir\n",
    "accelerometer_output_dir = \"accel_output\"\n",
    "tz_str = \"America/New_York\"\n",
    "frequency = Frequency.DAILY\n",
    "beiwe_ids = None\n",
    "\n",
    "run(data_dir, accelerometer_output_dir, \n",
    "    tz_str, frequency, users = beiwe_ids)"
   ]
  },
  {
   "cell_type": "code",
   "execution_count": null,
   "metadata": {},
   "outputs": [],
   "source": [
    "from helper_functions import concatenate_summaries\n",
    "\n",
    "\n",
    "concatenate_summaries(dir_path = os.path.join(direc, accelerometer_output_dir), \n",
    "                      output_filename = os.path.join(direc,\"accel_summaries.csv\"))"
   ]
  },
  {
   "cell_type": "markdown",
   "metadata": {},
   "source": [
    "## Plot Data"
   ]
  },
  {
   "cell_type": "markdown",
   "metadata": {},
   "source": [
    "Now, we will also be generate some time series plots using the generated statistic summaries.\n",
    "- To read the file, we need to define **response_filename** with the concatenated dataset. Here, we are using 'gps_summaries_daily.csv'."
   ]
  },
  {
   "cell_type": "code",
   "execution_count": null,
   "metadata": {},
   "outputs": [],
   "source": [
    "import matplotlib.pyplot as plt\n",
    "import os\n",
    "import pandas as pd\n",
    "\n",
    "direc = os.getcwd()\n",
    "response_filename = 'gps_summaries_daily.csv'\n",
    "path_resp = os.path.join(direc, response_filename)    \n",
    "\n",
    "# read data\n",
    "response_data = pd.read_csv(path_resp)\n",
    "\n",
    "# GPS data (jasmine)\n",
    "response_data['Date'] = pd.to_datetime(response_data[['year', 'month', 'day']])\n",
    "\n",
    "# Accelerometer data (oak)\n",
    "# response_data.rename(columns={'date': 'Date'}, inplace=True)"
   ]
  },
  {
   "cell_type": "markdown",
   "metadata": {},
   "source": [
    "The data needs to be sorted according to date. The following code will sort and create 4 even time intervals in the plot. "
   ]
  },
  {
   "cell_type": "code",
   "execution_count": null,
   "metadata": {},
   "outputs": [],
   "source": [
    "## Make sure the data is sorted according to date\n",
    "response_data.sort_values('Date', inplace = True)\n",
    "response_data.reset_index(drop = True, inplace = True)\n",
    "\n",
    "def time_series_plot(var_to_plot, ylab = '', xlab = 'Date', num_x_ticks = 4):\n",
    "    for key, grp in response_data.groupby(['Beiwe_ID']):\n",
    "        plt.plot(response_data.Date, response_data[var_to_plot], label=key)\n",
    "    \n",
    "    #if len(response_data['Beiwe_ID'].unique()) > 1: ## more than one user to plot\n",
    "    #    plt.plot(response_data.Date, response_data[var_to_plot], c=response_data['Beiwe_ID'].astype('category'))\n",
    "    #else:\n",
    "    #    plt.plot(response_data.Date, response_data[var_to_plot]) #just one user\n",
    "    title = f\"Time Series Plot of {var_to_plot}\"\n",
    "    plt.title(title)\n",
    "    plt.xlabel(xlab)\n",
    "    plt.ylabel(ylab)\n",
    "    \n",
    "    ## get evenly indices\n",
    "    tick_indices = [(i * (len(response_data.Date.unique()) - 1)) // (num_x_ticks - 1) for i in range(num_x_ticks) ]\n",
    "    \n",
    "    plt.xticks(response_data.Date.unique()[tick_indices])\n",
    "    plt.show()"
   ]
  },
  {
   "cell_type": "markdown",
   "metadata": {},
   "source": [
    "- You can now create time series plots using **time_series_plot('variable')**."
   ]
  },
  {
   "cell_type": "code",
   "execution_count": null,
   "metadata": {},
   "outputs": [],
   "source": [
    "time_series_plot('dist_traveled', ylab = \"km\")"
   ]
  },
  {
   "cell_type": "markdown",
   "metadata": {},
   "source": [
    "*The output displays a time series plot for the variable, \"dist_traveled.\"*"
   ]
  },
  {
   "cell_type": "code",
   "execution_count": null,
   "metadata": {},
   "outputs": [],
   "source": [
    "time_series_plot('sd_flight_length', ylab = \"km\")"
   ]
  },
  {
   "cell_type": "markdown",
   "metadata": {},
   "source": [
    "*The output displays a time series plot for the variable, \"sd_flight_length.\"*"
   ]
  }
 ],
 "metadata": {
  "kernelspec": {
   "display_name": "Python 3",
   "language": "python",
   "name": "python3"
  },
  "language_info": {
   "codemirror_mode": {
    "name": "ipython",
    "version": 3
   },
   "file_extension": ".py",
   "mimetype": "text/x-python",
   "name": "python",
   "nbconvert_exporter": "python",
   "pygments_lexer": "ipython3",
   "version": "3.11.11"
  }
 },
 "nbformat": 4,
 "nbformat_minor": 4
}
