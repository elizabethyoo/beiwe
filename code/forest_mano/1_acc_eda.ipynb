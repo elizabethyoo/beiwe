{
 "cells": [
  {
   "cell_type": "code",
   "execution_count": 41,
   "id": "ac504c02-b685-44ae-bbec-65ccb0886067",
   "metadata": {},
   "outputs": [],
   "source": [
    "import matplotlib.pyplot as plt\n",
    "import os\n",
    "import pandas as pd\n",
    "\n",
    "direc = os.getcwd()\n",
    "response_filename = 'gps_summaries_daily.csv'\n",
    "path_resp = os.path.join(direc, response_filename)    \n",
    "\n",
    "# read data\n",
    "response_data = pd.read_csv(path_resp)\n",
    "\n",
    "# GPS data (jasmine)\n",
    "response_data['Date'] = pd.to_datetime(response_data[['year', 'month', 'day']])\n",
    "\n",
    "# Accelerometer data (oak)\n",
    "# response_data.rename(columns={'date': 'Date'}, inplace=True)"
   ]
  },
  {
   "cell_type": "code",
   "execution_count": 42,
   "id": "570590e8-c4a6-487b-bf91-eed8feeceeea",
   "metadata": {},
   "outputs": [
    {
     "data": {
      "text/plain": [
       "'/n/onnela_dp_l3/Lab/HOPE/beiwe/data/raw/auto_download'"
      ]
     },
     "execution_count": 42,
     "metadata": {},
     "output_type": "execute_result"
    }
   ],
   "source": [
    "raw_data_path"
   ]
  },
  {
   "cell_type": "code",
   "execution_count": 43,
   "id": "c1237d19-e131-4670-9a01-dec89e723320",
   "metadata": {},
   "outputs": [
    {
     "name": "stderr",
     "output_type": "stream",
     "text": [
      "/n/onnela_dp_l3/Lab/envs/.forest_venv/lib/python3.12/site-packages/forest/oak/base.py:669: FutureWarning: 'T' is deprecated and will be removed in a future version, please use 'min' instead.\n",
      "  t_hours_pd = t_series.dt.floor('T')\n",
      "/n/onnela_dp_l3/Lab/envs/.forest_venv/lib/python3.12/site-packages/forest/oak/base.py:669: FutureWarning: 'T' is deprecated and will be removed in a future version, please use 'min' instead.\n",
      "  t_hours_pd = t_series.dt.floor('T')\n",
      "/n/onnela_dp_l3/Lab/envs/.forest_venv/lib/python3.12/site-packages/forest/oak/base.py:669: FutureWarning: 'T' is deprecated and will be removed in a future version, please use 'min' instead.\n",
      "  t_hours_pd = t_series.dt.floor('T')\n",
      "/n/onnela_dp_l3/Lab/envs/.forest_venv/lib/python3.12/site-packages/forest/oak/base.py:669: FutureWarning: 'T' is deprecated and will be removed in a future version, please use 'min' instead.\n",
      "  t_hours_pd = t_series.dt.floor('T')\n",
      "/n/onnela_dp_l3/Lab/envs/.forest_venv/lib/python3.12/site-packages/forest/oak/base.py:669: FutureWarning: 'T' is deprecated and will be removed in a future version, please use 'min' instead.\n",
      "  t_hours_pd = t_series.dt.floor('T')\n",
      "/n/onnela_dp_l3/Lab/envs/.forest_venv/lib/python3.12/site-packages/forest/oak/base.py:669: FutureWarning: 'T' is deprecated and will be removed in a future version, please use 'min' instead.\n",
      "  t_hours_pd = t_series.dt.floor('T')\n",
      "/n/onnela_dp_l3/Lab/envs/.forest_venv/lib/python3.12/site-packages/forest/oak/base.py:669: FutureWarning: 'T' is deprecated and will be removed in a future version, please use 'min' instead.\n",
      "  t_hours_pd = t_series.dt.floor('T')\n"
     ]
    }
   ],
   "source": [
    "beiwe_id_df = pd.read_csv(metadata_path)\n",
    "row = beiwe_id_df.iloc[task_id]\n",
    "\n",
    "acc_output_folder = \"acc_output\" # name of folder that will be created in data dir\n",
    "acc_output_dir = os.path.abspath(os.path.join(data_dir, acc_output_folder))\n",
    "tz_str = \"America/New_York\"\n",
    "frequency = Frequency.HOURLY\n",
    "\n",
    "beiwe_ids = [row['beiwe_id']]\n",
    "# cluster = row['cluster_label'].values[0]\n",
    "\n",
    "run(raw_data_path, acc_output_dir, tz_str, frequency, users = beiwe_ids)"
   ]
  },
  {
   "cell_type": "code",
   "execution_count": null,
   "id": "ce8da350-cccd-4af2-9d1f-bc006143885c",
   "metadata": {},
   "outputs": [],
   "source": []
  }
 ],
 "metadata": {
  "kernelspec": {
   "display_name": "forest_venv",
   "language": "python",
   "name": "forest_venv"
  },
  "language_info": {
   "codemirror_mode": {
    "name": "ipython",
    "version": 3
   },
   "file_extension": ".py",
   "mimetype": "text/x-python",
   "name": "python",
   "nbconvert_exporter": "python",
   "pygments_lexer": "ipython3",
   "version": "3.12.5"
  }
 },
 "nbformat": 4,
 "nbformat_minor": 5
}
